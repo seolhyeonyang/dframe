{
 "cells": [
  {
   "cell_type": "code",
   "execution_count": 98,
   "metadata": {
    "collapsed": true
   },
   "outputs": [
    {
     "data": {
      "text/plain": "'\\n- (1) pivot()\\n    90도 회전(rotation)\\n    컬럼 -> 인덱스로 변환\\n\\n- (2) stack(), unstack()\\n    stack (위에서 아래로)높게 쌓는것\\n    unstack 쌓은것을 옆으로(왼쪽에서 오른쪽으로 넓게)\\n\\n- (3) melt()\\n\\n- (4) wide_to_long()\\n\\n- (5) pd.crosstab()\\n\\npivot / melt 를 많이 씀\\n'"
     },
     "execution_count": 98,
     "metadata": {},
     "output_type": "execute_result"
    }
   ],
   "source": [
    "import pandas as pd\n",
    "import numpy as np\n",
    "from icecream import ic\n",
    "'''\n",
    "- (1) pivot()\n",
    "    90도 회전(rotation)\n",
    "    컬럼 -> 인덱스로 변환\n",
    "\n",
    "- (2) stack(), unstack()\n",
    "    stack (위에서 아래로)높게 쌓는것\n",
    "    unstack 쌓은것을 옆으로(왼쪽에서 오른쪽으로 넓게)\n",
    "\n",
    "- (3) melt()\n",
    "\n",
    "- (4) wide_to_long()\n",
    "\n",
    "- (5) pd.crosstab()\n",
    "\n",
    "pivot / melt 를 많이 씀\n",
    "'''"
   ]
  },
  {
   "cell_type": "code",
   "execution_count": 99,
   "outputs": [
    {
     "name": "stderr",
     "output_type": "stream",
     "text": [
      "ic| df:   customer_id product_code grade  purchase_amount\n",
      "        0         kim          com     A               30\n",
      "        1         lee        phone     A               10\n",
      "        2        park           tv     A                0\n",
      "        3        song          com     A               40\n",
      "        4        yoon        phone     A               15\n",
      "        5        kang           tv     A               30\n",
      "        6         tak          com     B                0\n",
      "        7         ryu        phone     B                0\n",
      "        8        jang           tv     B               10\n"
     ]
    },
    {
     "name": "stdout",
     "output_type": "stream",
     "text": [
      "product_code   com  phone    tv\n",
      "customer_id                    \n",
      "jang           NaN    NaN  10.0\n",
      "kang           NaN    NaN  30.0\n",
      "kim           30.0    NaN   NaN\n",
      "lee            NaN   10.0   NaN\n",
      "park           NaN    NaN   0.0\n",
      "ryu            NaN    0.0   NaN\n",
      "song          40.0    NaN   NaN\n",
      "tak            0.0    NaN   NaN\n",
      "yoon           NaN   15.0   NaN\n"
     ]
    }
   ],
   "source": [
    "# 30 다음 객체를 customer_id 를 인덱스로하고 product_code 를 컬럼으로, purchare_amount 를 값으로, 재구성하시오\n",
    "df = pd.DataFrame({\"customer_id\":['kim','lee','park','song','yoon','kang','tak','ryu','jang'],\n",
    "               \"product_code\":['com','phone','tv','com','phone','tv','com','phone','tv'],\n",
    "               \"grade\":['A','A','A','A','A','A','B','B','B'],\n",
    "               \"purchase_amount\":[30,10,0,40,15,30,0,0,10]})\n",
    "ic(df)\n",
    "df = df.pivot(index='customer_id', columns= 'product_code', values='purchase_amount')\n",
    "print(df)"
   ],
   "metadata": {
    "collapsed": false,
    "pycharm": {
     "name": "#%%\n"
    }
   }
  },
  {
   "cell_type": "code",
   "execution_count": 100,
   "outputs": [
    {
     "name": "stdout",
     "output_type": "stream",
     "text": [
      "product_code        com  phone    tv\n",
      "customer_id grade                   \n",
      "jang        B       NaN    NaN  10.0\n",
      "kang        A       NaN    NaN  30.0\n",
      "kim         A      30.0    NaN   NaN\n",
      "lee         A       NaN   10.0   NaN\n",
      "park        A       NaN    NaN   0.0\n",
      "ryu         B       NaN    0.0   NaN\n",
      "song        A      40.0    NaN   NaN\n",
      "tak         B       0.0    NaN   NaN\n",
      "yoon        A       NaN   15.0   NaN\n"
     ]
    }
   ],
   "source": [
    "# index 2개 이상\n",
    "# 31 다음 객체를 customer_id, grade 를 인덱스로하고 product_code 를 컬럼으로, purchare_amount 를 값으로, 재구성하시오\n",
    "df = pd.DataFrame({\"customer_id\":['kim','lee','park','song','yoon','kang','tak','ryu','jang'],\n",
    "               \"product_code\":['com','phone','tv','com','phone','tv','com','phone','tv'],\n",
    "               \"grade\":['A','A','A','A','A','A','B','B','B'],\n",
    "               \"purchase_amount\":[30,10,0,40,15,30,0,0,10]})\n",
    "df = df.pivot(index=['customer_id','grade'], columns='product_code', values='purchase_amount')\n",
    "print(df)"
   ],
   "metadata": {
    "collapsed": false,
    "pycharm": {
     "name": "#%%\n"
    }
   }
  },
  {
   "cell_type": "code",
   "execution_count": 147,
   "outputs": [
    {
     "name": "stderr",
     "output_type": "stream",
     "text": [
      "ic| df:           com  phone  tv  netbook\n",
      "        kim 2019    0      1   2        3\n",
      "            2020    4      5   6        7\n",
      "        lee 2019    8      9  10       11\n",
      "            2020   12     13  14       15\n",
      "ic| df: kim  2019  com         0\n",
      "                   phone       1\n",
      "                   tv          2\n",
      "                   netbook     3\n",
      "             2020  com         4\n",
      "                   phone       5\n",
      "                   tv          6\n",
      "                   netbook     7\n",
      "        lee  2019  com         8\n",
      "                   phone       9\n",
      "                   tv         10\n",
      "                   netbook    11\n",
      "             2020  com        12\n",
      "                   phone      13\n",
      "                   tv         14\n",
      "                   netbook    15\n",
      "        dtype: int32\n",
      "ic| df:              2019  2020\n",
      "        kim com         0     4\n",
      "            phone       1     5\n",
      "            tv          2     6\n",
      "            netbook     3     7\n",
      "        lee com         8    12\n",
      "            phone       9    13\n",
      "            tv         10    14\n",
      "            netbook    11    15\n",
      "ic| df:         2019     2020    \n",
      "                 kim lee  kim lee\n",
      "        com        0   8    4  12\n",
      "        phone      1   9    5  13\n",
      "        tv         2  10    6  14\n",
      "        netbook    3  11    7  15\n",
      "ic| df:      index 2019     2020    \n",
      "                    kim lee  kim lee\n",
      "        0      com    0   8    4  12\n",
      "        1    phone    1   9    5  13\n",
      "        2       tv    2  10    6  14\n",
      "        3  netbook    3  11    7  15\n"
     ]
    },
    {
     "data": {
      "text/plain": "     index 2019     2020    \n            kim lee  kim lee\n0      com    0   8    4  12\n1    phone    1   9    5  13\n2       tv    2  10    6  14\n3  netbook    3  11    7  15",
      "text/html": "<div>\n<style scoped>\n    .dataframe tbody tr th:only-of-type {\n        vertical-align: middle;\n    }\n\n    .dataframe tbody tr th {\n        vertical-align: top;\n    }\n\n    .dataframe thead tr th {\n        text-align: left;\n    }\n</style>\n<table border=\"1\" class=\"dataframe\">\n  <thead>\n    <tr>\n      <th></th>\n      <th>index</th>\n      <th colspan=\"2\" halign=\"left\">2019</th>\n      <th colspan=\"2\" halign=\"left\">2020</th>\n    </tr>\n    <tr>\n      <th></th>\n      <th></th>\n      <th>kim</th>\n      <th>lee</th>\n      <th>kim</th>\n      <th>lee</th>\n    </tr>\n  </thead>\n  <tbody>\n    <tr>\n      <th>0</th>\n      <td>com</td>\n      <td>0</td>\n      <td>8</td>\n      <td>4</td>\n      <td>12</td>\n    </tr>\n    <tr>\n      <th>1</th>\n      <td>phone</td>\n      <td>1</td>\n      <td>9</td>\n      <td>5</td>\n      <td>13</td>\n    </tr>\n    <tr>\n      <th>2</th>\n      <td>tv</td>\n      <td>2</td>\n      <td>10</td>\n      <td>6</td>\n      <td>14</td>\n    </tr>\n    <tr>\n      <th>3</th>\n      <td>netbook</td>\n      <td>3</td>\n      <td>11</td>\n      <td>7</td>\n      <td>15</td>\n    </tr>\n  </tbody>\n</table>\n</div>"
     },
     "execution_count": 147,
     "metadata": {},
     "output_type": "execute_result"
    }
   ],
   "source": [
    "# 32\n",
    "\n",
    "df = pd.DataFrame(np.arange(16).reshape(4,4),\n",
    "                  index= pd.MultiIndex.from_tuples([('kim','2019'),('kim','2020'),('lee','2019'),('lee','2020')]),\n",
    "                  columns=['com','phone','tv','netbook'])\n",
    "ic(df)\n",
    "# ic(type(df.stack())) pandas.core.series.Series\n",
    "df = df.stack(level=-1, dropna=True)\n",
    "ic(df)\n",
    "df = df.unstack(level=1)\n",
    "ic(df)\n",
    "'''\n",
    "결측값이 있는 데이터셋을 stack() 할 때 결측값을 제거할지(dropna=True),\n",
    "아니면 결측값을 NaN으로 유지할지(dropna=False) 설정\n",
    "unstack(level=-1), unstack(level=0), unstack(level=1) 별로\n",
    "어떤 level이 칼럼으로 이동해서 unstack() 되는지 체크\n",
    "'''\n",
    "df = df.unstack(level=0)\n",
    "ic(df)\n",
    "df = df.reset_index()\n",
    "df.rename(columns={'lever_0':'customer_id','level_1':'year'}, inplace=True)\n",
    "ic(df)"
   ],
   "metadata": {
    "collapsed": false,
    "pycharm": {
     "name": "#%%\n"
    }
   }
  },
  {
   "cell_type": "code",
   "execution_count": 119,
   "outputs": [
    {
     "name": "stderr",
     "output_type": "stream",
     "text": [
      "ic| df:   customer_id product_code  purchase_count  purchase_amount\n",
      "        0         kim          com               1              100\n",
      "        1         kim        phone               2              200\n",
      "        2         lee           tv               3              300\n",
      "        3         lee          tab               4              400\n"
     ]
    },
    {
     "data": {
      "text/plain": "  customer_id product_code         variable  value\n0         kim          com   purchase_count      1\n1         kim        phone   purchase_count      2\n2         lee           tv   purchase_count      3\n3         lee          tab   purchase_count      4\n4         kim          com  purchase_amount    100\n5         kim        phone  purchase_amount    200\n6         lee           tv  purchase_amount    300\n7         lee          tab  purchase_amount    400",
      "text/html": "<div>\n<style scoped>\n    .dataframe tbody tr th:only-of-type {\n        vertical-align: middle;\n    }\n\n    .dataframe tbody tr th {\n        vertical-align: top;\n    }\n\n    .dataframe thead th {\n        text-align: right;\n    }\n</style>\n<table border=\"1\" class=\"dataframe\">\n  <thead>\n    <tr style=\"text-align: right;\">\n      <th></th>\n      <th>customer_id</th>\n      <th>product_code</th>\n      <th>variable</th>\n      <th>value</th>\n    </tr>\n  </thead>\n  <tbody>\n    <tr>\n      <th>0</th>\n      <td>kim</td>\n      <td>com</td>\n      <td>purchase_count</td>\n      <td>1</td>\n    </tr>\n    <tr>\n      <th>1</th>\n      <td>kim</td>\n      <td>phone</td>\n      <td>purchase_count</td>\n      <td>2</td>\n    </tr>\n    <tr>\n      <th>2</th>\n      <td>lee</td>\n      <td>tv</td>\n      <td>purchase_count</td>\n      <td>3</td>\n    </tr>\n    <tr>\n      <th>3</th>\n      <td>lee</td>\n      <td>tab</td>\n      <td>purchase_count</td>\n      <td>4</td>\n    </tr>\n    <tr>\n      <th>4</th>\n      <td>kim</td>\n      <td>com</td>\n      <td>purchase_amount</td>\n      <td>100</td>\n    </tr>\n    <tr>\n      <th>5</th>\n      <td>kim</td>\n      <td>phone</td>\n      <td>purchase_amount</td>\n      <td>200</td>\n    </tr>\n    <tr>\n      <th>6</th>\n      <td>lee</td>\n      <td>tv</td>\n      <td>purchase_amount</td>\n      <td>300</td>\n    </tr>\n    <tr>\n      <th>7</th>\n      <td>lee</td>\n      <td>tab</td>\n      <td>purchase_amount</td>\n      <td>400</td>\n    </tr>\n  </tbody>\n</table>\n</div>"
     },
     "execution_count": 119,
     "metadata": {},
     "output_type": "execute_result"
    }
   ],
   "source": [
    "'''\n",
    "melt() 는 ID 변수를 기준으로 원래 데이터셋에 있던 여러개의 칼럼 이름을\n",
    "'variable' 칼럼에 위에서 아래로 길게 쌓아놓고,\n",
    "'value' 칼럼에 ID와 variable에 해당하는 값을\n",
    "넣어주는 식으로 데이터를 재구조화\n",
    "'''\n",
    "df = pd.DataFrame({\"customer_id\":['kim','kim','lee','lee'],\n",
    "               \"product_code\":['com','phone','tv','tab'],\n",
    "               \"purchase_count\":[1,2,3,4],\n",
    "               \"purchase_amount\":[100,200,300,400]})\n",
    "ic(df)\n",
    "\n",
    "# (1) pd.melt(data, id_vars=['id1', 'id2', ...]) 를 사용한 데이터 재구조화\n",
    "df = pd.melt(df, id_vars=['customer_id','product_code'])\n",
    "df\n",
    "\n",
    "\n",
    "# (2) pd.melt() 의 variable 이름, value 이름 부여하기 : var_name, value_name\n",
    "# df = pd.melt(df, id_vars=['customer_id','product_code'], var_name='var_name', value_name='value_name')\n",
    "# ic(df)"
   ],
   "metadata": {
    "collapsed": false,
    "pycharm": {
     "name": "#%%\n"
    }
   }
  },
  {
   "cell_type": "code",
   "execution_count": 116,
   "outputs": [
    {
     "name": "stderr",
     "output_type": "stream",
     "text": [
      "ic| df:   Class 1 Class 2 Score 1 Score 2     value  seq\n",
      "        0       A       D     2.5     3.2  1.331587    0\n",
      "        1       B       E     1.2     1.3  0.715279    1\n",
      "        2       C       F     0.7     0.1 -1.545400    2\n",
      "ic| df:            value Class Score\n",
      "        seq 학기                      \n",
      "        0   1   1.331587     A   2.5\n",
      "        1   1   0.715279     B   1.2\n",
      "        2   1  -1.545400     C   0.7\n",
      "        0   2   1.331587     D   3.2\n",
      "        1   2   0.715279     E   1.3\n",
      "        2   2  -1.545400     F   0.1\n"
     ]
    },
    {
     "data": {
      "text/plain": "           value Class Score\nseq 학기                      \n0   1   1.331587     A   2.5\n1   1   0.715279     B   1.2\n2   1  -1.545400     C   0.7\n0   2   1.331587     D   3.2\n1   2   0.715279     E   1.3\n2   2  -1.545400     F   0.1",
      "text/html": "<div>\n<style scoped>\n    .dataframe tbody tr th:only-of-type {\n        vertical-align: middle;\n    }\n\n    .dataframe tbody tr th {\n        vertical-align: top;\n    }\n\n    .dataframe thead th {\n        text-align: right;\n    }\n</style>\n<table border=\"1\" class=\"dataframe\">\n  <thead>\n    <tr style=\"text-align: right;\">\n      <th></th>\n      <th></th>\n      <th>value</th>\n      <th>Class</th>\n      <th>Score</th>\n    </tr>\n    <tr>\n      <th>seq</th>\n      <th>학기</th>\n      <th></th>\n      <th></th>\n      <th></th>\n    </tr>\n  </thead>\n  <tbody>\n    <tr>\n      <th>0</th>\n      <th>1</th>\n      <td>1.331587</td>\n      <td>A</td>\n      <td>2.5</td>\n    </tr>\n    <tr>\n      <th>1</th>\n      <th>1</th>\n      <td>0.715279</td>\n      <td>B</td>\n      <td>1.2</td>\n    </tr>\n    <tr>\n      <th>2</th>\n      <th>1</th>\n      <td>-1.545400</td>\n      <td>C</td>\n      <td>0.7</td>\n    </tr>\n    <tr>\n      <th>0</th>\n      <th>2</th>\n      <td>1.331587</td>\n      <td>D</td>\n      <td>3.2</td>\n    </tr>\n    <tr>\n      <th>1</th>\n      <th>2</th>\n      <td>0.715279</td>\n      <td>E</td>\n      <td>1.3</td>\n    </tr>\n    <tr>\n      <th>2</th>\n      <th>2</th>\n      <td>-1.545400</td>\n      <td>F</td>\n      <td>0.1</td>\n    </tr>\n  </tbody>\n</table>\n</div>"
     },
     "execution_count": 116,
     "metadata": {},
     "output_type": "execute_result"
    }
   ],
   "source": [
    "np.random.seed(10)\n",
    "df = pd.DataFrame({\"Class 1\":{0:\"A\",1:\"B\",2:\"C\"},\n",
    "                  \"Class 2\":{0:\"D\",1:\"E\",2:\"F\"},\n",
    "                  \"Score 1\":{0:\"2.5\",1:\"1.2\",2:\"0.7\"},\n",
    "                  \"Score 2\":{0:\"3.2\",1:\"1.3\",2:\"0.1\"},\n",
    "                   \"value\": dict(zip(range(3),np.random.randn(3)))})\n",
    "df[\"seq\"] = df.index\n",
    "ic(df)\n",
    "'''\n",
    "pd.wide_to_long() 함수를 써서 데이터를 재구조화\n",
    "wide_to_long()은 pivot() 이나 stack() 과는 다르게\n",
    "\"칼럼 이름의 앞부분\"과 나머지 \"칼럼 이름의 뒷부분\"을 구분해서,\n",
    "칼럼 이름의 앞부분을 칼럼 이름으로,\n",
    "칼럼 이름의 나머지 뒷부분을 행(row)의 원소로 해서\n",
    "세로로 길게(long~) 쌓아 줍니다.\n",
    "pd.widt_to_long() 함수를 한번 사용해서\n",
    "가로로 넓은 데이터(wide~)를 세로로 길게(long~) 재구조화 하시오.\n",
    "pd.wide_to_long(data, [\"col_prefix_1\", \"col_prefix_2\"], i=\"idx_1\", j=\"idx_2\")\n",
    "'''\n",
    "df = pd.wide_to_long(df,['Class', 'Score'], i = 'seq', j = '학기', sep=' ')\n",
    "ic(df)\n",
    "\n",
    "# wide_to_long(데이터프레임, stubnames={})\n",
    "# stub 는 그루터기로 전체값에서 일부분의 값을 의미한다, Class 1, Class 2, Class 3 에서\n",
    "# 반복되는 Class 와 Store 라는 값만 취한다.\n",
    "# df, [\"Class-1\",\"Class-2\"],\n",
    "# i 는 DF 의 인덱스로 정한 값을 입력한다\n",
    "# j 는 stubname 에서 컬럼명으로 정의한 나머지 부분은 코딩하는 사람의 임의로 정한다\n",
    "# sep 는 구분자로 stubname 과 임의의 컬럼명 사이를 구분하는 패턴이다.\n",
    "# sep 에서 '' 이면, 구분자가 없는 상태가 되고, 예제처럼 띄어쓰기로 하려면\n",
    "# ' ' 반드시 스페이스바를 한 번 클릭해야 한다."
   ],
   "metadata": {
    "collapsed": false,
    "pycharm": {
     "name": "#%%\n"
    }
   }
  },
  {
   "cell_type": "code",
   "execution_count": 109,
   "outputs": [
    {
     "name": "stderr",
     "output_type": "stream",
     "text": [
      "ic| df:    학생ID 1학기학점 2학기학점\n",
      "        0   kim     A     D\n",
      "        1   kim     A     D\n",
      "        2   kim     A     D\n",
      "        3   lee     B     C\n",
      "        4   lee     B     C\n",
      "        5  park     B     D\n",
      "ic| pd.crosstab(df['학생ID'],df['1학기학점']): 1학기학점  A  B\n",
      "                                         학생ID       \n",
      "                                         kim    3  0\n",
      "                                         lee    0  2\n",
      "                                         park   0  1\n"
     ]
    },
    {
     "data": {
      "text/plain": "1학기학점  A  B   \n2학기학점  D  C  D\n학생ID          \nkim    3  0  0\nlee    0  2  0\npark   0  0  1",
      "text/html": "<div>\n<style scoped>\n    .dataframe tbody tr th:only-of-type {\n        vertical-align: middle;\n    }\n\n    .dataframe tbody tr th {\n        vertical-align: top;\n    }\n\n    .dataframe thead tr th {\n        text-align: left;\n    }\n\n    .dataframe thead tr:last-of-type th {\n        text-align: right;\n    }\n</style>\n<table border=\"1\" class=\"dataframe\">\n  <thead>\n    <tr>\n      <th>1학기학점</th>\n      <th>A</th>\n      <th colspan=\"2\" halign=\"left\">B</th>\n    </tr>\n    <tr>\n      <th>2학기학점</th>\n      <th>D</th>\n      <th>C</th>\n      <th>D</th>\n    </tr>\n    <tr>\n      <th>학생ID</th>\n      <th></th>\n      <th></th>\n      <th></th>\n    </tr>\n  </thead>\n  <tbody>\n    <tr>\n      <th>kim</th>\n      <td>3</td>\n      <td>0</td>\n      <td>0</td>\n    </tr>\n    <tr>\n      <th>lee</th>\n      <td>0</td>\n      <td>2</td>\n      <td>0</td>\n    </tr>\n    <tr>\n      <th>park</th>\n      <td>0</td>\n      <td>0</td>\n      <td>1</td>\n    </tr>\n  </tbody>\n</table>\n</div>"
     },
     "execution_count": 109,
     "metadata": {},
     "output_type": "execute_result"
    }
   ],
   "source": [
    "'''\n",
    "index 와 column 이 교차 하는 빈도수\n",
    "pd.crosstab()\n",
    "범주형 변수로 되어있는 요인(factors)별로 교차분석(cross tabulations) 해서,\n",
    "행, 열 요인 기준 별로 빈도를 세어서 도수분포표(frequency table),\n",
    "교차표(contingency table) 를 생성한다\n",
    "\n",
    "# 범주형 변수란 고유한 값이나 범주 수가 제한된 변수(예: 성별 또는 종교)이다.\n",
    "# 교차분석(cross-tabulation analysis)은 '범주형'으로 구성된 자료들 간의 연관관계를 확인하기 위해\n",
    "   교차표를 만들어 관계를 확인하는 분석 방법이다.\n",
    "'''\n",
    "df = pd.DataFrame({\"학생ID\" :[\"kim\",\"kim\",\"kim\",\"lee\",\"lee\",\"park\"],\n",
    "                   \"1학기학점\":[\"A\",\"A\",\"A\",\"B\",\"B\",\"B\"],\n",
    "                   \"2학기학점\":[\"D\",\"D\",\"D\",\"C\",\"C\",\"D\"]})\n",
    "ic(df)\n",
    "\n",
    "# (1) 교차표(contingency table, frequency table) 만들기 : pd.crosstab(index, columns)\n",
    "ic(pd.crosstab(df['학생ID'],df['1학기학점']))\n",
    "\n",
    "\n",
    "# (2) Multi-index, Multi-level로 교차표 만들기 : pd.crosstab([id1, id2], [col1, col2])\n",
    "df = pd.crosstab(df['학생ID'], [df['1학기학점'],df['2학기학점']])\n",
    "df\n",
    "\n",
    "# (3) 교차표의 행 이름, 열 이름 부여 : pd.crosstab(rownames=['xx'], colnames=['aa'])\n",
    "df = pd.crosstab(index=df['학생ID'], columns=[df[\"1학기학점\"],df[\"2학기학점\"]],\n",
    "                 rownames=[\"학점\"], colnames=['ID','ID'])\n",
    "df\n",
    "\n",
    "# (4) 교차표의 행 합, 열 합 추가하기 : pd.crosstab(margins=True)\n",
    "df = pd.crosstab(df['학생ID'], [df['1학기학점'],df['2학기학점']],margins=True)\n",
    "df\n",
    "\n",
    "# (5) 구성비율로 교차표 만들기 : pd.crosstab(normalize=True)\n",
    "df = pd.crosstab(df['학생ID'], [df['1학기학점'],df['2학기학점']],normalize=True)\n",
    "df"
   ],
   "metadata": {
    "collapsed": false,
    "pycharm": {
     "name": "#%%\n"
    }
   }
  }
 ],
 "metadata": {
  "kernelspec": {
   "display_name": "Python 3",
   "language": "python",
   "name": "python3"
  },
  "language_info": {
   "codemirror_mode": {
    "name": "ipython",
    "version": 2
   },
   "file_extension": ".py",
   "mimetype": "text/x-python",
   "name": "python",
   "nbconvert_exporter": "python",
   "pygments_lexer": "ipython2",
   "version": "2.7.6"
  }
 },
 "nbformat": 4,
 "nbformat_minor": 0
}
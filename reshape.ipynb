{
 "cells": [
  {
   "cell_type": "code",
   "execution_count": 2,
   "metadata": {
    "collapsed": true
   },
   "outputs": [
    {
     "data": {
      "text/plain": "'\\n- (1) pivot(), pd.pivot_table()\\n\\n- (2) stack(), unstack()\\n\\n- (3) melt()\\n\\n- (4) wide_to_long()\\n\\n- (5) pd.crosstab()\\n\\npivot / melt 를 많이 씀\\n'"
     },
     "execution_count": 2,
     "metadata": {},
     "output_type": "execute_result"
    }
   ],
   "source": [
    "import pandas as pd\n",
    "import numpy as np\n",
    "from icecream import ic\n",
    "'''\n",
    "- (1) pivot()\n",
    "    90도 회전(rotation)\n",
    "    컬럼 -> 인덱스로 변환\n",
    "\n",
    "- (2) stack(), unstack()\n",
    "    stack (위에서 아래로)높게 쌓는것\n",
    "    unstack 쌓은것을 옆으로(왼쪽에서 오른쪽으로 넓게)\n",
    "\n",
    "- (3) melt()\n",
    "\n",
    "- (4) wide_to_long()\n",
    "\n",
    "- (5) pd.crosstab()\n",
    "\n",
    "pivot / melt 를 많이 씀\n",
    "'''"
   ]
  },
  {
   "cell_type": "code",
   "execution_count": 4,
   "outputs": [
    {
     "name": "stderr",
     "output_type": "stream",
     "text": [
      "ic| df:   customer_id product_code grade  purchase_amount\n",
      "        0         kim          com     A               30\n",
      "        1         lee        phone     A               10\n",
      "        2        park           tv     A                0\n",
      "        3        song          com     A               40\n",
      "        4        yoon        phone     A               15\n",
      "        5        kang           tv     A               30\n",
      "        6         tak          com     B                0\n",
      "        7         ryu        phone     B                0\n",
      "        8        jang           tv     B               10\n"
     ]
    },
    {
     "name": "stdout",
     "output_type": "stream",
     "text": [
      "product_code   com  phone    tv\n",
      "customer_id                    \n",
      "jang           NaN    NaN  10.0\n",
      "kang           NaN    NaN  30.0\n",
      "kim           30.0    NaN   NaN\n",
      "lee            NaN   10.0   NaN\n",
      "park           NaN    NaN   0.0\n",
      "ryu            NaN    0.0   NaN\n",
      "song          40.0    NaN   NaN\n",
      "tak            0.0    NaN   NaN\n",
      "yoon           NaN   15.0   NaN\n"
     ]
    }
   ],
   "source": [
    "# 30 다음 객체를 customer_id 를 인덱스로하고 product_code 를 컬럼으로, purchare_amount 를 값으로, 재구성하시오\n",
    "df = pd.DataFrame({\"customer_id\":['kim','lee','park','song','yoon','kang','tak','ryu','jang'],\n",
    "               \"product_code\":['com','phone','tv','com','phone','tv','com','phone','tv'],\n",
    "               \"grade\":['A','A','A','A','A','A','B','B','B'],\n",
    "               \"purchase_amount\":[30,10,0,40,15,30,0,0,10]})\n",
    "ic(df)\n",
    "df = df.pivot(index='customer_id', columns= 'product_code', values='purchase_amount')\n",
    "print(df)"
   ],
   "metadata": {
    "collapsed": false,
    "pycharm": {
     "name": "#%%\n"
    }
   }
  },
  {
   "cell_type": "code",
   "execution_count": 8,
   "outputs": [
    {
     "name": "stdout",
     "output_type": "stream",
     "text": [
      "product_code        com  phone    tv\n",
      "customer_id grade                   \n",
      "jang        B       NaN    NaN  10.0\n",
      "kang        A       NaN    NaN  30.0\n",
      "kim         A      30.0    NaN   NaN\n",
      "lee         A       NaN   10.0   NaN\n",
      "park        A       NaN    NaN   0.0\n",
      "ryu         B       NaN    0.0   NaN\n",
      "song        A      40.0    NaN   NaN\n",
      "tak         B       0.0    NaN   NaN\n",
      "yoon        A       NaN   15.0   NaN\n"
     ]
    }
   ],
   "source": [
    "# index 2개 이상\n",
    "# 31 다음 객체를 customer_id, grade 를 인덱스로하고 product_code 를 컬럼으로, purchare_amount 를 값으로, 재구성하시오\n",
    "df = pd.DataFrame({\"customer_id\":['kim','lee','park','song','yoon','kang','tak','ryu','jang'],\n",
    "               \"product_code\":['com','phone','tv','com','phone','tv','com','phone','tv'],\n",
    "               \"grade\":['A','A','A','A','A','A','B','B','B'],\n",
    "               \"purchase_amount\":[30,10,0,40,15,30,0,0,10]})\n",
    "df = df.pivot(index=['customer_id','grade'], columns='product_code', values='purchase_amount')\n",
    "print(df)"
   ],
   "metadata": {
    "collapsed": false,
    "pycharm": {
     "name": "#%%\n"
    }
   }
  },
  {
   "cell_type": "code",
   "execution_count": 36,
   "outputs": [
    {
     "name": "stderr",
     "output_type": "stream",
     "text": [
      "ic| df:           com  phone  tv  netbook\n",
      "        kim 2019    0      1   2        3\n",
      "            2020    4      5   6        7\n",
      "        lee 2019    8      9  10       11\n",
      "            2020   12     13  14       15\n",
      "ic| df: kim  2019  com         0\n",
      "                   phone       1\n",
      "                   tv          2\n",
      "                   netbook     3\n",
      "             2020  com         4\n",
      "                   phone       5\n",
      "                   tv          6\n",
      "                   netbook     7\n",
      "        lee  2019  com         8\n",
      "                   phone       9\n",
      "                   tv         10\n",
      "                   netbook    11\n",
      "             2020  com        12\n",
      "                   phone      13\n",
      "                   tv         14\n",
      "                   netbook    15\n",
      "        dtype: int32\n",
      "ic| df.unstack():      kim                  lee                  \n",
      "                       com phone tv netbook com phone  tv netbook\n",
      "                  2019   0     1  2       3   8     9  10      11\n",
      "                  2020   4     5  6       7  12    13  14      15\n",
      "ic| df:   level_0     year  kim  lee\n",
      "        0    2019      com    0    8\n",
      "        1    2019    phone    1    9\n",
      "        2    2019       tv    2   10\n",
      "        3    2019  netbook    3   11\n",
      "        4    2020      com    4   12\n",
      "        5    2020    phone    5   13\n",
      "        6    2020       tv    6   14\n",
      "        7    2020  netbook    7   15\n"
     ]
    },
    {
     "data": {
      "text/plain": "  level_0     year  kim  lee\n0    2019      com    0    8\n1    2019    phone    1    9\n2    2019       tv    2   10\n3    2019  netbook    3   11\n4    2020      com    4   12\n5    2020    phone    5   13\n6    2020       tv    6   14\n7    2020  netbook    7   15",
      "text/html": "<div>\n<style scoped>\n    .dataframe tbody tr th:only-of-type {\n        vertical-align: middle;\n    }\n\n    .dataframe tbody tr th {\n        vertical-align: top;\n    }\n\n    .dataframe thead th {\n        text-align: right;\n    }\n</style>\n<table border=\"1\" class=\"dataframe\">\n  <thead>\n    <tr style=\"text-align: right;\">\n      <th></th>\n      <th>level_0</th>\n      <th>year</th>\n      <th>kim</th>\n      <th>lee</th>\n    </tr>\n  </thead>\n  <tbody>\n    <tr>\n      <th>0</th>\n      <td>2019</td>\n      <td>com</td>\n      <td>0</td>\n      <td>8</td>\n    </tr>\n    <tr>\n      <th>1</th>\n      <td>2019</td>\n      <td>phone</td>\n      <td>1</td>\n      <td>9</td>\n    </tr>\n    <tr>\n      <th>2</th>\n      <td>2019</td>\n      <td>tv</td>\n      <td>2</td>\n      <td>10</td>\n    </tr>\n    <tr>\n      <th>3</th>\n      <td>2019</td>\n      <td>netbook</td>\n      <td>3</td>\n      <td>11</td>\n    </tr>\n    <tr>\n      <th>4</th>\n      <td>2020</td>\n      <td>com</td>\n      <td>4</td>\n      <td>12</td>\n    </tr>\n    <tr>\n      <th>5</th>\n      <td>2020</td>\n      <td>phone</td>\n      <td>5</td>\n      <td>13</td>\n    </tr>\n    <tr>\n      <th>6</th>\n      <td>2020</td>\n      <td>tv</td>\n      <td>6</td>\n      <td>14</td>\n    </tr>\n    <tr>\n      <th>7</th>\n      <td>2020</td>\n      <td>netbook</td>\n      <td>7</td>\n      <td>15</td>\n    </tr>\n  </tbody>\n</table>\n</div>"
     },
     "execution_count": 36,
     "metadata": {},
     "output_type": "execute_result"
    }
   ],
   "source": [
    "# 32\n",
    "\n",
    "df = pd.DataFrame(np.arange(16).reshape(4,4),\n",
    "                  index= pd.MultiIndex.from_tuples([('kim','2019'),('kim','2020'),('lee','2019'),('lee','2020')]),\n",
    "                  columns=['com','phone','tv','netbook'])\n",
    "ic(df)\n",
    "# ic(type(df.stack())) pandas.core.series.Series\n",
    "df = df.stack(level=-1, dropna=True)\n",
    "ic(df)\n",
    "df = df.unstack(level=0)\n",
    "ic(df.unstack())\n",
    "'''\n",
    "결측값이 있는 데이터셋을 stack() 할 때 결측값을 제거할지(dropna=True),\n",
    "아니면 결측값을 NaN으로 유지할지(dropna=False) 설정\n",
    "unstack(level=-1), unstack(level=0), unstack(level=1) 별로\n",
    "어떤 level이 칼럼으로 이동해서 unstack() 되는지 체크\n",
    "'''\n",
    "df = df.reset_index()\n",
    "df.rename(columns={'lever_0':'customer_id','level_1':'year'}, inplace=True)\n",
    "ic(df)"
   ],
   "metadata": {
    "collapsed": false,
    "pycharm": {
     "name": "#%%\n"
    }
   }
  },
  {
   "cell_type": "code",
   "execution_count": 41,
   "outputs": [
    {
     "name": "stderr",
     "output_type": "stream",
     "text": [
      "ic| df:   customer_id product_code  purchase_count  purchase_amount\n",
      "        0         kim          com               1              100\n",
      "        1         kim        phone               2              200\n",
      "        2         lee           tv               3              300\n",
      "        3         lee          tab               4              400\n",
      "ic| df:   customer_id product_code         var_name  value_name\n",
      "        0         kim          com   purchase_count           1\n",
      "        1         kim        phone   purchase_count           2\n",
      "        2         lee           tv   purchase_count           3\n",
      "        3         lee          tab   purchase_count           4\n",
      "        4         kim          com  purchase_amount         100\n",
      "        5         kim        phone  purchase_amount         200\n",
      "        6         lee           tv  purchase_amount         300\n",
      "        7         lee          tab  purchase_amount         400\n"
     ]
    },
    {
     "data": {
      "text/plain": "  customer_id product_code         var_name  value_name\n0         kim          com   purchase_count           1\n1         kim        phone   purchase_count           2\n2         lee           tv   purchase_count           3\n3         lee          tab   purchase_count           4\n4         kim          com  purchase_amount         100\n5         kim        phone  purchase_amount         200\n6         lee           tv  purchase_amount         300\n7         lee          tab  purchase_amount         400",
      "text/html": "<div>\n<style scoped>\n    .dataframe tbody tr th:only-of-type {\n        vertical-align: middle;\n    }\n\n    .dataframe tbody tr th {\n        vertical-align: top;\n    }\n\n    .dataframe thead th {\n        text-align: right;\n    }\n</style>\n<table border=\"1\" class=\"dataframe\">\n  <thead>\n    <tr style=\"text-align: right;\">\n      <th></th>\n      <th>customer_id</th>\n      <th>product_code</th>\n      <th>var_name</th>\n      <th>value_name</th>\n    </tr>\n  </thead>\n  <tbody>\n    <tr>\n      <th>0</th>\n      <td>kim</td>\n      <td>com</td>\n      <td>purchase_count</td>\n      <td>1</td>\n    </tr>\n    <tr>\n      <th>1</th>\n      <td>kim</td>\n      <td>phone</td>\n      <td>purchase_count</td>\n      <td>2</td>\n    </tr>\n    <tr>\n      <th>2</th>\n      <td>lee</td>\n      <td>tv</td>\n      <td>purchase_count</td>\n      <td>3</td>\n    </tr>\n    <tr>\n      <th>3</th>\n      <td>lee</td>\n      <td>tab</td>\n      <td>purchase_count</td>\n      <td>4</td>\n    </tr>\n    <tr>\n      <th>4</th>\n      <td>kim</td>\n      <td>com</td>\n      <td>purchase_amount</td>\n      <td>100</td>\n    </tr>\n    <tr>\n      <th>5</th>\n      <td>kim</td>\n      <td>phone</td>\n      <td>purchase_amount</td>\n      <td>200</td>\n    </tr>\n    <tr>\n      <th>6</th>\n      <td>lee</td>\n      <td>tv</td>\n      <td>purchase_amount</td>\n      <td>300</td>\n    </tr>\n    <tr>\n      <th>7</th>\n      <td>lee</td>\n      <td>tab</td>\n      <td>purchase_amount</td>\n      <td>400</td>\n    </tr>\n  </tbody>\n</table>\n</div>"
     },
     "execution_count": 41,
     "metadata": {},
     "output_type": "execute_result"
    }
   ],
   "source": [
    "'''\n",
    "melt() 는 ID 변수를 기준으로 원래 데이터셋에 있던 여러개의 칼럼 이름을\n",
    "'variable' 칼럼에 위에서 아래로 길게 쌓아놓고,\n",
    "'value' 칼럼에 ID와 variable에 해당하는 값을\n",
    "넣어주는 식으로 데이터를 재구조화\n",
    "'''\n",
    "df = pd.DataFrame({\"customer_id\":['kim','kim','lee','lee'],\n",
    "               \"product_code\":['com','phone','tv','tab'],\n",
    "               \"purchase_count\":[1,2,3,4],\n",
    "               \"purchase_amount\":[100,200,300,400]})\n",
    "ic(df)\n",
    "\n",
    "# (1) pd.melt(data, id_vars=['id1', 'id2', ...]) 를 사용한 데이터 재구조화\n",
    "# df = pd.melt(df, id_vars=['customer_id','product_code'])\n",
    "# ic(df)\n",
    "\n",
    "\n",
    "# (2) pd.melt() 의 variable 이름, value 이름 부여하기 : var_name, value_name\n",
    "df = pd.melt(df, id_vars=['customer_id','product_code'], var_name='var_name', value_name='value_name')\n",
    "ic(df)"
   ],
   "metadata": {
    "collapsed": false,
    "pycharm": {
     "name": "#%%\n"
    }
   }
  },
  {
   "cell_type": "code",
   "execution_count": 45,
   "outputs": [
    {
     "name": "stderr",
     "output_type": "stream",
     "text": [
      "ic| df:   Class1 Class2 Score1 Score2     value  seq\n",
      "        0      A      D    2.5    3.2  1.331587    0\n",
      "        1      B      E    1.2    1.3  0.715279    1\n",
      "        2      C      F    0.7    0.1 -1.545400    2\n",
      "ic| df:               value Class Score\n",
      "        seq value                      \n",
      "        0   1      1.331587     A   2.5\n",
      "        1   1      0.715279     B   1.2\n",
      "        2   1     -1.545400     C   0.7\n",
      "        0   2      1.331587     D   3.2\n",
      "        1   2      0.715279     E   1.3\n",
      "        2   2     -1.545400     F   0.1\n"
     ]
    },
    {
     "data": {
      "text/plain": "              value Class Score\nseq value                      \n0   1      1.331587     A   2.5\n1   1      0.715279     B   1.2\n2   1     -1.545400     C   0.7\n0   2      1.331587     D   3.2\n1   2      0.715279     E   1.3\n2   2     -1.545400     F   0.1",
      "text/html": "<div>\n<style scoped>\n    .dataframe tbody tr th:only-of-type {\n        vertical-align: middle;\n    }\n\n    .dataframe tbody tr th {\n        vertical-align: top;\n    }\n\n    .dataframe thead th {\n        text-align: right;\n    }\n</style>\n<table border=\"1\" class=\"dataframe\">\n  <thead>\n    <tr style=\"text-align: right;\">\n      <th></th>\n      <th></th>\n      <th>value</th>\n      <th>Class</th>\n      <th>Score</th>\n    </tr>\n    <tr>\n      <th>seq</th>\n      <th>value</th>\n      <th></th>\n      <th></th>\n      <th></th>\n    </tr>\n  </thead>\n  <tbody>\n    <tr>\n      <th>0</th>\n      <th>1</th>\n      <td>1.331587</td>\n      <td>A</td>\n      <td>2.5</td>\n    </tr>\n    <tr>\n      <th>1</th>\n      <th>1</th>\n      <td>0.715279</td>\n      <td>B</td>\n      <td>1.2</td>\n    </tr>\n    <tr>\n      <th>2</th>\n      <th>1</th>\n      <td>-1.545400</td>\n      <td>C</td>\n      <td>0.7</td>\n    </tr>\n    <tr>\n      <th>0</th>\n      <th>2</th>\n      <td>1.331587</td>\n      <td>D</td>\n      <td>3.2</td>\n    </tr>\n    <tr>\n      <th>1</th>\n      <th>2</th>\n      <td>0.715279</td>\n      <td>E</td>\n      <td>1.3</td>\n    </tr>\n    <tr>\n      <th>2</th>\n      <th>2</th>\n      <td>-1.545400</td>\n      <td>F</td>\n      <td>0.1</td>\n    </tr>\n  </tbody>\n</table>\n</div>"
     },
     "execution_count": 45,
     "metadata": {},
     "output_type": "execute_result"
    }
   ],
   "source": [
    "np.random.seed(10)\n",
    "df = pd.DataFrame({\"Class1\":{0:\"A\",1:\"B\",2:\"C\"},\n",
    "                  \"Class2\":{0:\"D\",1:\"E\",2:\"F\"},\n",
    "                  \"Score1\":{0:\"2.5\",1:\"1.2\",2:\"0.7\"},\n",
    "                  \"Score2\":{0:\"3.2\",1:\"1.3\",2:\"0.1\"},\n",
    "                   \"value\": dict(zip(range(3),np.random.randn(3)))})\n",
    "df[\"seq\"] = df.index\n",
    "ic(df)\n",
    "'''\n",
    "pd.wide_to_long() 함수를 써서 데이터를 재구조화\n",
    "wide_to_long()은 pivot() 이나 stack() 과는 다르게\n",
    "\"칼럼 이름의 앞부분\"과 나머지 \"칼럼 이름의 뒷부분\"을 구분해서,\n",
    "칼럼 이름의 앞부분을 칼럼 이름으로,\n",
    "칼럼 이름의 나머지 뒷부분을 행(row)의 원소로 해서\n",
    "세로로 길게(long~) 쌓아 줍니다.\n",
    "pd.widt_to_long() 함수를 한번 사용해서\n",
    "가로로 넓은 데이터(wide~)를 세로로 길게(long~) 재구조화 하시오.\n",
    "pd.wide_to_long(data, [\"col_prefix_1\", \"col_prefix_2\"], i=\"idx_1\", j=\"idx_2\")\n",
    "'''\n",
    "df = pd.wide_to_long(df,['Class', 'Score'], i = 'seq', j = 'value')\n",
    "ic(df)\n"
   ],
   "metadata": {
    "collapsed": false,
    "pycharm": {
     "name": "#%%\n"
    }
   }
  }
 ],
 "metadata": {
  "kernelspec": {
   "display_name": "Python 3",
   "language": "python",
   "name": "python3"
  },
  "language_info": {
   "codemirror_mode": {
    "name": "ipython",
    "version": 2
   },
   "file_extension": ".py",
   "mimetype": "text/x-python",
   "name": "python",
   "nbconvert_exporter": "python",
   "pygments_lexer": "ipython2",
   "version": "2.7.6"
  }
 },
 "nbformat": 4,
 "nbformat_minor": 0
}